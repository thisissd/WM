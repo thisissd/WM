{
 "cells": [
  {
   "cell_type": "markdown",
   "id": "2b89e936",
   "metadata": {},
   "source": [
    "# Case Study - SD"
   ]
  },
  {
   "cell_type": "code",
   "execution_count": 38,
   "id": "710cd095",
   "metadata": {},
   "outputs": [],
   "source": [
    "import numpy as np\n",
    "import pandas as pd\n",
    "import xgboost as xgb\n",
    "import joblib\n",
    "from xgboost import XGBClassifier\n",
    "from sklearn.model_selection import GridSearchCV, StratifiedKFold, train_test_split\n",
    "from sklearn.metrics import roc_auc_score, accuracy_score, confusion_matrix, classification_report, plot_confusion_matrix\n",
    "from sklearn.metrics import precision_recall_curve, plot_precision_recall_curve, plot_roc_curve\n",
    "from xgboost import plot_importance\n",
    "from matplotlib import pyplot"
   ]
  },
  {
   "cell_type": "markdown",
   "id": "af102c9e",
   "metadata": {},
   "source": [
    "### Load Data"
   ]
  },
  {
   "cell_type": "code",
   "execution_count": 39,
   "id": "95b01b0e",
   "metadata": {},
   "outputs": [],
   "source": [
    "df = pd.read_csv('ds_practical.txt', delimiter = \"|\")"
   ]
  },
  {
   "cell_type": "code",
   "execution_count": 40,
   "id": "c9567506",
   "metadata": {},
   "outputs": [
    {
     "data": {
      "text/html": [
       "<div>\n",
       "<style scoped>\n",
       "    .dataframe tbody tr th:only-of-type {\n",
       "        vertical-align: middle;\n",
       "    }\n",
       "\n",
       "    .dataframe tbody tr th {\n",
       "        vertical-align: top;\n",
       "    }\n",
       "\n",
       "    .dataframe thead th {\n",
       "        text-align: right;\n",
       "    }\n",
       "</style>\n",
       "<table border=\"1\" class=\"dataframe\">\n",
       "  <thead>\n",
       "    <tr style=\"text-align: right;\">\n",
       "      <th></th>\n",
       "      <th>anon_person_id</th>\n",
       "      <th>target</th>\n",
       "      <th>state</th>\n",
       "      <th>presence_of_child_ind</th>\n",
       "      <th>streaming_media_subs</th>\n",
       "      <th>streaming_entertainment_subs</th>\n",
       "      <th>marital_status</th>\n",
       "      <th>gender</th>\n",
       "      <th>income</th>\n",
       "      <th>number_of_news_subs</th>\n",
       "      <th>age</th>\n",
       "    </tr>\n",
       "  </thead>\n",
       "  <tbody>\n",
       "    <tr>\n",
       "      <th>0</th>\n",
       "      <td>1</td>\n",
       "      <td>0</td>\n",
       "      <td>CA</td>\n",
       "      <td>0</td>\n",
       "      <td>N</td>\n",
       "      <td>0</td>\n",
       "      <td>M</td>\n",
       "      <td>Female</td>\n",
       "      <td>$175k-199k</td>\n",
       "      <td>0</td>\n",
       "      <td>43.0</td>\n",
       "    </tr>\n",
       "    <tr>\n",
       "      <th>1</th>\n",
       "      <td>2</td>\n",
       "      <td>0</td>\n",
       "      <td>CA</td>\n",
       "      <td>0</td>\n",
       "      <td>N</td>\n",
       "      <td>0</td>\n",
       "      <td>U</td>\n",
       "      <td>Male</td>\n",
       "      <td>$225k-249k</td>\n",
       "      <td>0</td>\n",
       "      <td>90.0</td>\n",
       "    </tr>\n",
       "    <tr>\n",
       "      <th>2</th>\n",
       "      <td>3</td>\n",
       "      <td>1</td>\n",
       "      <td>CA</td>\n",
       "      <td>0</td>\n",
       "      <td>Y</td>\n",
       "      <td>1</td>\n",
       "      <td>S</td>\n",
       "      <td>Female</td>\n",
       "      <td>$150k-174k</td>\n",
       "      <td>0</td>\n",
       "      <td>46.0</td>\n",
       "    </tr>\n",
       "    <tr>\n",
       "      <th>3</th>\n",
       "      <td>4</td>\n",
       "      <td>0</td>\n",
       "      <td>CA</td>\n",
       "      <td>1</td>\n",
       "      <td>N</td>\n",
       "      <td>0</td>\n",
       "      <td>U</td>\n",
       "      <td>Female</td>\n",
       "      <td>$125k-149k</td>\n",
       "      <td>0</td>\n",
       "      <td>25.0</td>\n",
       "    </tr>\n",
       "    <tr>\n",
       "      <th>4</th>\n",
       "      <td>5</td>\n",
       "      <td>0</td>\n",
       "      <td>CA</td>\n",
       "      <td>0</td>\n",
       "      <td>N</td>\n",
       "      <td>0</td>\n",
       "      <td>U</td>\n",
       "      <td>Female</td>\n",
       "      <td>$175k-199k</td>\n",
       "      <td>0</td>\n",
       "      <td>62.0</td>\n",
       "    </tr>\n",
       "  </tbody>\n",
       "</table>\n",
       "</div>"
      ],
      "text/plain": [
       "   anon_person_id  target state  presence_of_child_ind streaming_media_subs  \\\n",
       "0               1       0    CA                      0                    N   \n",
       "1               2       0    CA                      0                    N   \n",
       "2               3       1    CA                      0                    Y   \n",
       "3               4       0    CA                      1                    N   \n",
       "4               5       0    CA                      0                    N   \n",
       "\n",
       "   streaming_entertainment_subs marital_status  gender      income  \\\n",
       "0                             0              M  Female  $175k-199k   \n",
       "1                             0              U    Male  $225k-249k   \n",
       "2                             1              S  Female  $150k-174k   \n",
       "3                             0              U  Female  $125k-149k   \n",
       "4                             0              U  Female  $175k-199k   \n",
       "\n",
       "   number_of_news_subs   age  \n",
       "0                    0  43.0  \n",
       "1                    0  90.0  \n",
       "2                    0  46.0  \n",
       "3                    0  25.0  \n",
       "4                    0  62.0  "
      ]
     },
     "execution_count": 40,
     "metadata": {},
     "output_type": "execute_result"
    }
   ],
   "source": [
    "df.head()"
   ]
  },
  {
   "cell_type": "code",
   "execution_count": 41,
   "id": "c6a38be8",
   "metadata": {},
   "outputs": [
    {
     "name": "stdout",
     "output_type": "stream",
     "text": [
      "<class 'pandas.core.frame.DataFrame'>\n",
      "RangeIndex: 1000000 entries, 0 to 999999\n",
      "Data columns (total 11 columns):\n",
      " #   Column                        Non-Null Count    Dtype  \n",
      "---  ------                        --------------    -----  \n",
      " 0   anon_person_id                1000000 non-null  int64  \n",
      " 1   target                        1000000 non-null  int64  \n",
      " 2   state                         989976 non-null   object \n",
      " 3   presence_of_child_ind         1000000 non-null  int64  \n",
      " 4   streaming_media_subs          1000000 non-null  object \n",
      " 5   streaming_entertainment_subs  1000000 non-null  int64  \n",
      " 6   marital_status                1000000 non-null  object \n",
      " 7   gender                        1000000 non-null  object \n",
      " 8   income                        1000000 non-null  object \n",
      " 9   number_of_news_subs           1000000 non-null  int64  \n",
      " 10  age                           980298 non-null   float64\n",
      "dtypes: float64(1), int64(5), object(5)\n",
      "memory usage: 83.9+ MB\n"
     ]
    }
   ],
   "source": [
    "df.info()"
   ]
  },
  {
   "cell_type": "markdown",
   "id": "84079ddb",
   "metadata": {},
   "source": [
    "### Data Cleaning"
   ]
  },
  {
   "cell_type": "code",
   "execution_count": 42,
   "id": "b28805d0",
   "metadata": {},
   "outputs": [],
   "source": [
    "#State and age are missing for some observations based on df.info() above\n",
    "#cannot infer their values based on the other attributes, so will have to drop them.\n",
    "#Actually, XGBoost can handle missing values in estimation, however since I will also \n",
    "#estimate a logistic regression as a benchmark on the same data, for fair performance comparison,\n",
    "#(on the same dataset), the missing values are dropped here. "
   ]
  },
  {
   "cell_type": "code",
   "execution_count": 43,
   "id": "ab13feee",
   "metadata": {},
   "outputs": [
    {
     "data": {
      "text/plain": [
       "anon_person_id                      0\n",
       "target                              0\n",
       "state                           10024\n",
       "presence_of_child_ind               0\n",
       "streaming_media_subs                0\n",
       "streaming_entertainment_subs        0\n",
       "marital_status                      0\n",
       "gender                              0\n",
       "income                              0\n",
       "number_of_news_subs                 0\n",
       "age                             19702\n",
       "dtype: int64"
      ]
     },
     "execution_count": 43,
     "metadata": {},
     "output_type": "execute_result"
    }
   ],
   "source": [
    "df.isnull().sum()"
   ]
  },
  {
   "cell_type": "code",
   "execution_count": 44,
   "id": "1f148f84",
   "metadata": {},
   "outputs": [],
   "source": [
    "df = df.dropna() #drops all rows with missing values"
   ]
  },
  {
   "cell_type": "code",
   "execution_count": 45,
   "id": "985ca1aa",
   "metadata": {},
   "outputs": [],
   "source": [
    "#check if there are duplicate entries"
   ]
  },
  {
   "cell_type": "code",
   "execution_count": 46,
   "id": "09fecf65",
   "metadata": {},
   "outputs": [],
   "source": [
    "df = df.sort_values('anon_person_id')"
   ]
  },
  {
   "cell_type": "code",
   "execution_count": 47,
   "id": "5baadeca",
   "metadata": {},
   "outputs": [
    {
     "data": {
      "text/html": [
       "<div>\n",
       "<style scoped>\n",
       "    .dataframe tbody tr th:only-of-type {\n",
       "        vertical-align: middle;\n",
       "    }\n",
       "\n",
       "    .dataframe tbody tr th {\n",
       "        vertical-align: top;\n",
       "    }\n",
       "\n",
       "    .dataframe thead th {\n",
       "        text-align: right;\n",
       "    }\n",
       "</style>\n",
       "<table border=\"1\" class=\"dataframe\">\n",
       "  <thead>\n",
       "    <tr style=\"text-align: right;\">\n",
       "      <th></th>\n",
       "      <th>anon_person_id</th>\n",
       "      <th>target</th>\n",
       "      <th>state</th>\n",
       "      <th>presence_of_child_ind</th>\n",
       "      <th>streaming_media_subs</th>\n",
       "      <th>streaming_entertainment_subs</th>\n",
       "      <th>marital_status</th>\n",
       "      <th>gender</th>\n",
       "      <th>income</th>\n",
       "      <th>number_of_news_subs</th>\n",
       "      <th>age</th>\n",
       "    </tr>\n",
       "  </thead>\n",
       "  <tbody>\n",
       "    <tr>\n",
       "      <th>0</th>\n",
       "      <td>1</td>\n",
       "      <td>0</td>\n",
       "      <td>CA</td>\n",
       "      <td>0</td>\n",
       "      <td>N</td>\n",
       "      <td>0</td>\n",
       "      <td>M</td>\n",
       "      <td>Female</td>\n",
       "      <td>$175k-199k</td>\n",
       "      <td>0</td>\n",
       "      <td>43.0</td>\n",
       "    </tr>\n",
       "    <tr>\n",
       "      <th>999500</th>\n",
       "      <td>1</td>\n",
       "      <td>0</td>\n",
       "      <td>CA</td>\n",
       "      <td>0</td>\n",
       "      <td>N</td>\n",
       "      <td>0</td>\n",
       "      <td>M</td>\n",
       "      <td>Female</td>\n",
       "      <td>$175k-199k</td>\n",
       "      <td>0</td>\n",
       "      <td>43.0</td>\n",
       "    </tr>\n",
       "    <tr>\n",
       "      <th>999501</th>\n",
       "      <td>2</td>\n",
       "      <td>0</td>\n",
       "      <td>CA</td>\n",
       "      <td>0</td>\n",
       "      <td>N</td>\n",
       "      <td>0</td>\n",
       "      <td>U</td>\n",
       "      <td>Male</td>\n",
       "      <td>$225k-249k</td>\n",
       "      <td>0</td>\n",
       "      <td>90.0</td>\n",
       "    </tr>\n",
       "    <tr>\n",
       "      <th>1</th>\n",
       "      <td>2</td>\n",
       "      <td>0</td>\n",
       "      <td>CA</td>\n",
       "      <td>0</td>\n",
       "      <td>N</td>\n",
       "      <td>0</td>\n",
       "      <td>U</td>\n",
       "      <td>Male</td>\n",
       "      <td>$225k-249k</td>\n",
       "      <td>0</td>\n",
       "      <td>90.0</td>\n",
       "    </tr>\n",
       "    <tr>\n",
       "      <th>2</th>\n",
       "      <td>3</td>\n",
       "      <td>1</td>\n",
       "      <td>CA</td>\n",
       "      <td>0</td>\n",
       "      <td>Y</td>\n",
       "      <td>1</td>\n",
       "      <td>S</td>\n",
       "      <td>Female</td>\n",
       "      <td>$150k-174k</td>\n",
       "      <td>0</td>\n",
       "      <td>46.0</td>\n",
       "    </tr>\n",
       "    <tr>\n",
       "      <th>999502</th>\n",
       "      <td>3</td>\n",
       "      <td>1</td>\n",
       "      <td>CA</td>\n",
       "      <td>0</td>\n",
       "      <td>Y</td>\n",
       "      <td>1</td>\n",
       "      <td>S</td>\n",
       "      <td>Female</td>\n",
       "      <td>$150k-174k</td>\n",
       "      <td>0</td>\n",
       "      <td>46.0</td>\n",
       "    </tr>\n",
       "    <tr>\n",
       "      <th>3</th>\n",
       "      <td>4</td>\n",
       "      <td>0</td>\n",
       "      <td>CA</td>\n",
       "      <td>1</td>\n",
       "      <td>N</td>\n",
       "      <td>0</td>\n",
       "      <td>U</td>\n",
       "      <td>Female</td>\n",
       "      <td>$125k-149k</td>\n",
       "      <td>0</td>\n",
       "      <td>25.0</td>\n",
       "    </tr>\n",
       "    <tr>\n",
       "      <th>999503</th>\n",
       "      <td>4</td>\n",
       "      <td>0</td>\n",
       "      <td>CA</td>\n",
       "      <td>1</td>\n",
       "      <td>N</td>\n",
       "      <td>0</td>\n",
       "      <td>U</td>\n",
       "      <td>Female</td>\n",
       "      <td>$125k-149k</td>\n",
       "      <td>0</td>\n",
       "      <td>25.0</td>\n",
       "    </tr>\n",
       "    <tr>\n",
       "      <th>4</th>\n",
       "      <td>5</td>\n",
       "      <td>0</td>\n",
       "      <td>CA</td>\n",
       "      <td>0</td>\n",
       "      <td>N</td>\n",
       "      <td>0</td>\n",
       "      <td>U</td>\n",
       "      <td>Female</td>\n",
       "      <td>$175k-199k</td>\n",
       "      <td>0</td>\n",
       "      <td>62.0</td>\n",
       "    </tr>\n",
       "    <tr>\n",
       "      <th>999504</th>\n",
       "      <td>5</td>\n",
       "      <td>0</td>\n",
       "      <td>CA</td>\n",
       "      <td>0</td>\n",
       "      <td>N</td>\n",
       "      <td>0</td>\n",
       "      <td>U</td>\n",
       "      <td>Female</td>\n",
       "      <td>$175k-199k</td>\n",
       "      <td>0</td>\n",
       "      <td>62.0</td>\n",
       "    </tr>\n",
       "  </tbody>\n",
       "</table>\n",
       "</div>"
      ],
      "text/plain": [
       "        anon_person_id  target state  presence_of_child_ind  \\\n",
       "0                    1       0    CA                      0   \n",
       "999500               1       0    CA                      0   \n",
       "999501               2       0    CA                      0   \n",
       "1                    2       0    CA                      0   \n",
       "2                    3       1    CA                      0   \n",
       "999502               3       1    CA                      0   \n",
       "3                    4       0    CA                      1   \n",
       "999503               4       0    CA                      1   \n",
       "4                    5       0    CA                      0   \n",
       "999504               5       0    CA                      0   \n",
       "\n",
       "       streaming_media_subs  streaming_entertainment_subs marital_status  \\\n",
       "0                         N                             0              M   \n",
       "999500                    N                             0              M   \n",
       "999501                    N                             0              U   \n",
       "1                         N                             0              U   \n",
       "2                         Y                             1              S   \n",
       "999502                    Y                             1              S   \n",
       "3                         N                             0              U   \n",
       "999503                    N                             0              U   \n",
       "4                         N                             0              U   \n",
       "999504                    N                             0              U   \n",
       "\n",
       "        gender      income  number_of_news_subs   age  \n",
       "0       Female  $175k-199k                    0  43.0  \n",
       "999500  Female  $175k-199k                    0  43.0  \n",
       "999501    Male  $225k-249k                    0  90.0  \n",
       "1         Male  $225k-249k                    0  90.0  \n",
       "2       Female  $150k-174k                    0  46.0  \n",
       "999502  Female  $150k-174k                    0  46.0  \n",
       "3       Female  $125k-149k                    0  25.0  \n",
       "999503  Female  $125k-149k                    0  25.0  \n",
       "4       Female  $175k-199k                    0  62.0  \n",
       "999504  Female  $175k-199k                    0  62.0  "
      ]
     },
     "execution_count": 47,
     "metadata": {},
     "output_type": "execute_result"
    }
   ],
   "source": [
    "df.head(10)"
   ]
  },
  {
   "cell_type": "code",
   "execution_count": 48,
   "id": "c327886f",
   "metadata": {},
   "outputs": [
    {
     "data": {
      "text/plain": [
       "0         False\n",
       "999500     True\n",
       "999501    False\n",
       "1          True\n",
       "2         False\n",
       "          ...  \n",
       "999495    False\n",
       "999496    False\n",
       "999497    False\n",
       "999498    False\n",
       "999499    False\n",
       "Length: 970470, dtype: bool"
      ]
     },
     "execution_count": 48,
     "metadata": {},
     "output_type": "execute_result"
    }
   ],
   "source": [
    "df.duplicated()"
   ]
  },
  {
   "cell_type": "code",
   "execution_count": 49,
   "id": "fbb973fb",
   "metadata": {},
   "outputs": [],
   "source": [
    "df = df.drop_duplicates() #drop subsequent duplicate rows "
   ]
  },
  {
   "cell_type": "code",
   "execution_count": 50,
   "id": "da46773c",
   "metadata": {},
   "outputs": [
    {
     "name": "stdout",
     "output_type": "stream",
     "text": [
      "<class 'pandas.core.frame.DataFrame'>\n",
      "Int64Index: 970071 entries, 0 to 999499\n",
      "Data columns (total 11 columns):\n",
      " #   Column                        Non-Null Count   Dtype  \n",
      "---  ------                        --------------   -----  \n",
      " 0   anon_person_id                970071 non-null  int64  \n",
      " 1   target                        970071 non-null  int64  \n",
      " 2   state                         970071 non-null  object \n",
      " 3   presence_of_child_ind         970071 non-null  int64  \n",
      " 4   streaming_media_subs          970071 non-null  object \n",
      " 5   streaming_entertainment_subs  970071 non-null  int64  \n",
      " 6   marital_status                970071 non-null  object \n",
      " 7   gender                        970071 non-null  object \n",
      " 8   income                        970071 non-null  object \n",
      " 9   number_of_news_subs           970071 non-null  int64  \n",
      " 10  age                           970071 non-null  float64\n",
      "dtypes: float64(1), int64(5), object(5)\n",
      "memory usage: 88.8+ MB\n"
     ]
    }
   ],
   "source": [
    "df.info()"
   ]
  },
  {
   "cell_type": "code",
   "execution_count": 51,
   "id": "35a6eb50",
   "metadata": {},
   "outputs": [
    {
     "data": {
      "text/plain": [
       "array(['Female', 'Male', 'feMalee'], dtype=object)"
      ]
     },
     "execution_count": 51,
     "metadata": {},
     "output_type": "execute_result"
    }
   ],
   "source": [
    "df['gender'].unique()"
   ]
  },
  {
   "cell_type": "code",
   "execution_count": 52,
   "id": "9dacc7af",
   "metadata": {},
   "outputs": [],
   "source": [
    "df['gender'] = df['gender'].replace('feMalee', 'Female')"
   ]
  },
  {
   "cell_type": "code",
   "execution_count": 53,
   "id": "cdef1e91",
   "metadata": {},
   "outputs": [
    {
     "data": {
      "text/plain": [
       "array(['Female', 'Male'], dtype=object)"
      ]
     },
     "execution_count": 53,
     "metadata": {},
     "output_type": "execute_result"
    }
   ],
   "source": [
    "df['gender'].unique()"
   ]
  },
  {
   "cell_type": "markdown",
   "id": "904c0601",
   "metadata": {},
   "source": [
    "### Data Preparation"
   ]
  },
  {
   "cell_type": "code",
   "execution_count": 54,
   "id": "c4d92bbc",
   "metadata": {},
   "outputs": [],
   "source": [
    "df_x_partial = df[['presence_of_child_ind', 'streaming_entertainment_subs', 'number_of_news_subs', 'age']]"
   ]
  },
  {
   "cell_type": "code",
   "execution_count": 55,
   "id": "06df187c",
   "metadata": {},
   "outputs": [],
   "source": [
    "#one-hot encode the categorical variables:"
   ]
  },
  {
   "cell_type": "code",
   "execution_count": 56,
   "id": "a5373766",
   "metadata": {},
   "outputs": [],
   "source": [
    "df_x_categorical = df[['state', 'streaming_media_subs', 'marital_status', 'gender', 'income']]"
   ]
  },
  {
   "cell_type": "code",
   "execution_count": 57,
   "id": "52b2113e",
   "metadata": {},
   "outputs": [],
   "source": [
    "one_hot_x=pd.get_dummies(df_x_categorical)"
   ]
  },
  {
   "cell_type": "code",
   "execution_count": 58,
   "id": "3564b8fb",
   "metadata": {},
   "outputs": [],
   "source": [
    "# < symbol in column name will lead to an error in XGBoost, hence correct for that:\n",
    "one_hot_x = one_hot_x.rename(columns={'income_<$25k': 'income_Less$25k'})"
   ]
  },
  {
   "cell_type": "code",
   "execution_count": 59,
   "id": "eeb25dba",
   "metadata": {},
   "outputs": [],
   "source": [
    "# For XGBoost, prepare Y and X features\n",
    "# Since XGBoost can handle multicollinarity, there is no need to drop the trivial one-hot-encoded attributes"
   ]
  },
  {
   "cell_type": "code",
   "execution_count": 60,
   "id": "e2850553",
   "metadata": {},
   "outputs": [],
   "source": [
    "df_y = df[['target']]"
   ]
  },
  {
   "cell_type": "code",
   "execution_count": 61,
   "id": "16ff8555",
   "metadata": {},
   "outputs": [],
   "source": [
    "df_x = pd.concat([df_x_partial,one_hot_x],axis=1)"
   ]
  },
  {
   "cell_type": "code",
   "execution_count": 62,
   "id": "9ba74be7",
   "metadata": {},
   "outputs": [],
   "source": [
    "# For Logistic Regression, prepare Y and X features\n",
    "# Since dummy variable trap is a concern for the Logistic Regression, I will drop one column out of \n",
    "# every one-hot-encoded variable. These dropped columns will define the baseline and the coefficients \n",
    "# obtained will represent the contributions to the probability compared to the baseline."
   ]
  },
  {
   "cell_type": "code",
   "execution_count": 63,
   "id": "4b2f8b18",
   "metadata": {},
   "outputs": [],
   "source": [
    "df_y_logistic = df[['target']]"
   ]
  },
  {
   "cell_type": "code",
   "execution_count": 64,
   "id": "9f52f627",
   "metadata": {},
   "outputs": [
    {
     "data": {
      "text/html": [
       "<div>\n",
       "<style scoped>\n",
       "    .dataframe tbody tr th:only-of-type {\n",
       "        vertical-align: middle;\n",
       "    }\n",
       "\n",
       "    .dataframe tbody tr th {\n",
       "        vertical-align: top;\n",
       "    }\n",
       "\n",
       "    .dataframe thead th {\n",
       "        text-align: right;\n",
       "    }\n",
       "</style>\n",
       "<table border=\"1\" class=\"dataframe\">\n",
       "  <thead>\n",
       "    <tr style=\"text-align: right;\">\n",
       "      <th></th>\n",
       "      <th>state_CA</th>\n",
       "      <th>state_DC</th>\n",
       "      <th>state_GA</th>\n",
       "      <th>streaming_media_subs_N</th>\n",
       "      <th>streaming_media_subs_Y</th>\n",
       "      <th>marital_status_M</th>\n",
       "      <th>marital_status_S</th>\n",
       "      <th>marital_status_U</th>\n",
       "      <th>gender_Female</th>\n",
       "      <th>gender_Male</th>\n",
       "      <th>...</th>\n",
       "      <th>income_$150k-174k</th>\n",
       "      <th>income_$175k-199k</th>\n",
       "      <th>income_$200k-224k</th>\n",
       "      <th>income_$225k-249k</th>\n",
       "      <th>income_$250k+</th>\n",
       "      <th>income_$25k-49k</th>\n",
       "      <th>income_$50k-74k</th>\n",
       "      <th>income_$75k-99k</th>\n",
       "      <th>income_Less$25k</th>\n",
       "      <th>income_U</th>\n",
       "    </tr>\n",
       "  </thead>\n",
       "  <tbody>\n",
       "    <tr>\n",
       "      <th>0</th>\n",
       "      <td>1</td>\n",
       "      <td>0</td>\n",
       "      <td>0</td>\n",
       "      <td>1</td>\n",
       "      <td>0</td>\n",
       "      <td>1</td>\n",
       "      <td>0</td>\n",
       "      <td>0</td>\n",
       "      <td>1</td>\n",
       "      <td>0</td>\n",
       "      <td>...</td>\n",
       "      <td>0</td>\n",
       "      <td>1</td>\n",
       "      <td>0</td>\n",
       "      <td>0</td>\n",
       "      <td>0</td>\n",
       "      <td>0</td>\n",
       "      <td>0</td>\n",
       "      <td>0</td>\n",
       "      <td>0</td>\n",
       "      <td>0</td>\n",
       "    </tr>\n",
       "    <tr>\n",
       "      <th>999501</th>\n",
       "      <td>1</td>\n",
       "      <td>0</td>\n",
       "      <td>0</td>\n",
       "      <td>1</td>\n",
       "      <td>0</td>\n",
       "      <td>0</td>\n",
       "      <td>0</td>\n",
       "      <td>1</td>\n",
       "      <td>0</td>\n",
       "      <td>1</td>\n",
       "      <td>...</td>\n",
       "      <td>0</td>\n",
       "      <td>0</td>\n",
       "      <td>0</td>\n",
       "      <td>1</td>\n",
       "      <td>0</td>\n",
       "      <td>0</td>\n",
       "      <td>0</td>\n",
       "      <td>0</td>\n",
       "      <td>0</td>\n",
       "      <td>0</td>\n",
       "    </tr>\n",
       "    <tr>\n",
       "      <th>2</th>\n",
       "      <td>1</td>\n",
       "      <td>0</td>\n",
       "      <td>0</td>\n",
       "      <td>0</td>\n",
       "      <td>1</td>\n",
       "      <td>0</td>\n",
       "      <td>1</td>\n",
       "      <td>0</td>\n",
       "      <td>1</td>\n",
       "      <td>0</td>\n",
       "      <td>...</td>\n",
       "      <td>1</td>\n",
       "      <td>0</td>\n",
       "      <td>0</td>\n",
       "      <td>0</td>\n",
       "      <td>0</td>\n",
       "      <td>0</td>\n",
       "      <td>0</td>\n",
       "      <td>0</td>\n",
       "      <td>0</td>\n",
       "      <td>0</td>\n",
       "    </tr>\n",
       "    <tr>\n",
       "      <th>3</th>\n",
       "      <td>1</td>\n",
       "      <td>0</td>\n",
       "      <td>0</td>\n",
       "      <td>1</td>\n",
       "      <td>0</td>\n",
       "      <td>0</td>\n",
       "      <td>0</td>\n",
       "      <td>1</td>\n",
       "      <td>1</td>\n",
       "      <td>0</td>\n",
       "      <td>...</td>\n",
       "      <td>0</td>\n",
       "      <td>0</td>\n",
       "      <td>0</td>\n",
       "      <td>0</td>\n",
       "      <td>0</td>\n",
       "      <td>0</td>\n",
       "      <td>0</td>\n",
       "      <td>0</td>\n",
       "      <td>0</td>\n",
       "      <td>0</td>\n",
       "    </tr>\n",
       "    <tr>\n",
       "      <th>4</th>\n",
       "      <td>1</td>\n",
       "      <td>0</td>\n",
       "      <td>0</td>\n",
       "      <td>1</td>\n",
       "      <td>0</td>\n",
       "      <td>0</td>\n",
       "      <td>0</td>\n",
       "      <td>1</td>\n",
       "      <td>1</td>\n",
       "      <td>0</td>\n",
       "      <td>...</td>\n",
       "      <td>0</td>\n",
       "      <td>1</td>\n",
       "      <td>0</td>\n",
       "      <td>0</td>\n",
       "      <td>0</td>\n",
       "      <td>0</td>\n",
       "      <td>0</td>\n",
       "      <td>0</td>\n",
       "      <td>0</td>\n",
       "      <td>0</td>\n",
       "    </tr>\n",
       "  </tbody>\n",
       "</table>\n",
       "<p>5 rows × 22 columns</p>\n",
       "</div>"
      ],
      "text/plain": [
       "        state_CA  state_DC  state_GA  streaming_media_subs_N  \\\n",
       "0              1         0         0                       1   \n",
       "999501         1         0         0                       1   \n",
       "2              1         0         0                       0   \n",
       "3              1         0         0                       1   \n",
       "4              1         0         0                       1   \n",
       "\n",
       "        streaming_media_subs_Y  marital_status_M  marital_status_S  \\\n",
       "0                            0                 1                 0   \n",
       "999501                       0                 0                 0   \n",
       "2                            1                 0                 1   \n",
       "3                            0                 0                 0   \n",
       "4                            0                 0                 0   \n",
       "\n",
       "        marital_status_U  gender_Female  gender_Male  ...  income_$150k-174k  \\\n",
       "0                      0              1            0  ...                  0   \n",
       "999501                 1              0            1  ...                  0   \n",
       "2                      0              1            0  ...                  1   \n",
       "3                      1              1            0  ...                  0   \n",
       "4                      1              1            0  ...                  0   \n",
       "\n",
       "        income_$175k-199k  income_$200k-224k  income_$225k-249k  \\\n",
       "0                       1                  0                  0   \n",
       "999501                  0                  0                  1   \n",
       "2                       0                  0                  0   \n",
       "3                       0                  0                  0   \n",
       "4                       1                  0                  0   \n",
       "\n",
       "        income_$250k+  income_$25k-49k  income_$50k-74k  income_$75k-99k  \\\n",
       "0                   0                0                0                0   \n",
       "999501              0                0                0                0   \n",
       "2                   0                0                0                0   \n",
       "3                   0                0                0                0   \n",
       "4                   0                0                0                0   \n",
       "\n",
       "        income_Less$25k  income_U  \n",
       "0                     0         0  \n",
       "999501                0         0  \n",
       "2                     0         0  \n",
       "3                     0         0  \n",
       "4                     0         0  \n",
       "\n",
       "[5 rows x 22 columns]"
      ]
     },
     "execution_count": 64,
     "metadata": {},
     "output_type": "execute_result"
    }
   ],
   "source": [
    "one_hot_x.head()"
   ]
  },
  {
   "cell_type": "code",
   "execution_count": 65,
   "id": "d9b085fc",
   "metadata": {},
   "outputs": [],
   "source": [
    "one_hot_x_logistic = one_hot_x.drop(['state_GA', 'streaming_media_subs_N', 'marital_status_U', 'gender_Male', 'income_U'], axis=1)"
   ]
  },
  {
   "cell_type": "code",
   "execution_count": 66,
   "id": "ef0747af",
   "metadata": {},
   "outputs": [
    {
     "data": {
      "text/html": [
       "<div>\n",
       "<style scoped>\n",
       "    .dataframe tbody tr th:only-of-type {\n",
       "        vertical-align: middle;\n",
       "    }\n",
       "\n",
       "    .dataframe tbody tr th {\n",
       "        vertical-align: top;\n",
       "    }\n",
       "\n",
       "    .dataframe thead th {\n",
       "        text-align: right;\n",
       "    }\n",
       "</style>\n",
       "<table border=\"1\" class=\"dataframe\">\n",
       "  <thead>\n",
       "    <tr style=\"text-align: right;\">\n",
       "      <th></th>\n",
       "      <th>state_CA</th>\n",
       "      <th>state_DC</th>\n",
       "      <th>streaming_media_subs_Y</th>\n",
       "      <th>marital_status_M</th>\n",
       "      <th>marital_status_S</th>\n",
       "      <th>gender_Female</th>\n",
       "      <th>income_$100k-124k</th>\n",
       "      <th>income_$125k-149k</th>\n",
       "      <th>income_$150k-174k</th>\n",
       "      <th>income_$175k-199k</th>\n",
       "      <th>income_$200k-224k</th>\n",
       "      <th>income_$225k-249k</th>\n",
       "      <th>income_$250k+</th>\n",
       "      <th>income_$25k-49k</th>\n",
       "      <th>income_$50k-74k</th>\n",
       "      <th>income_$75k-99k</th>\n",
       "      <th>income_Less$25k</th>\n",
       "    </tr>\n",
       "  </thead>\n",
       "  <tbody>\n",
       "    <tr>\n",
       "      <th>0</th>\n",
       "      <td>1</td>\n",
       "      <td>0</td>\n",
       "      <td>0</td>\n",
       "      <td>1</td>\n",
       "      <td>0</td>\n",
       "      <td>1</td>\n",
       "      <td>0</td>\n",
       "      <td>0</td>\n",
       "      <td>0</td>\n",
       "      <td>1</td>\n",
       "      <td>0</td>\n",
       "      <td>0</td>\n",
       "      <td>0</td>\n",
       "      <td>0</td>\n",
       "      <td>0</td>\n",
       "      <td>0</td>\n",
       "      <td>0</td>\n",
       "    </tr>\n",
       "    <tr>\n",
       "      <th>999501</th>\n",
       "      <td>1</td>\n",
       "      <td>0</td>\n",
       "      <td>0</td>\n",
       "      <td>0</td>\n",
       "      <td>0</td>\n",
       "      <td>0</td>\n",
       "      <td>0</td>\n",
       "      <td>0</td>\n",
       "      <td>0</td>\n",
       "      <td>0</td>\n",
       "      <td>0</td>\n",
       "      <td>1</td>\n",
       "      <td>0</td>\n",
       "      <td>0</td>\n",
       "      <td>0</td>\n",
       "      <td>0</td>\n",
       "      <td>0</td>\n",
       "    </tr>\n",
       "    <tr>\n",
       "      <th>2</th>\n",
       "      <td>1</td>\n",
       "      <td>0</td>\n",
       "      <td>1</td>\n",
       "      <td>0</td>\n",
       "      <td>1</td>\n",
       "      <td>1</td>\n",
       "      <td>0</td>\n",
       "      <td>0</td>\n",
       "      <td>1</td>\n",
       "      <td>0</td>\n",
       "      <td>0</td>\n",
       "      <td>0</td>\n",
       "      <td>0</td>\n",
       "      <td>0</td>\n",
       "      <td>0</td>\n",
       "      <td>0</td>\n",
       "      <td>0</td>\n",
       "    </tr>\n",
       "    <tr>\n",
       "      <th>3</th>\n",
       "      <td>1</td>\n",
       "      <td>0</td>\n",
       "      <td>0</td>\n",
       "      <td>0</td>\n",
       "      <td>0</td>\n",
       "      <td>1</td>\n",
       "      <td>0</td>\n",
       "      <td>1</td>\n",
       "      <td>0</td>\n",
       "      <td>0</td>\n",
       "      <td>0</td>\n",
       "      <td>0</td>\n",
       "      <td>0</td>\n",
       "      <td>0</td>\n",
       "      <td>0</td>\n",
       "      <td>0</td>\n",
       "      <td>0</td>\n",
       "    </tr>\n",
       "    <tr>\n",
       "      <th>4</th>\n",
       "      <td>1</td>\n",
       "      <td>0</td>\n",
       "      <td>0</td>\n",
       "      <td>0</td>\n",
       "      <td>0</td>\n",
       "      <td>1</td>\n",
       "      <td>0</td>\n",
       "      <td>0</td>\n",
       "      <td>0</td>\n",
       "      <td>1</td>\n",
       "      <td>0</td>\n",
       "      <td>0</td>\n",
       "      <td>0</td>\n",
       "      <td>0</td>\n",
       "      <td>0</td>\n",
       "      <td>0</td>\n",
       "      <td>0</td>\n",
       "    </tr>\n",
       "  </tbody>\n",
       "</table>\n",
       "</div>"
      ],
      "text/plain": [
       "        state_CA  state_DC  streaming_media_subs_Y  marital_status_M  \\\n",
       "0              1         0                       0                 1   \n",
       "999501         1         0                       0                 0   \n",
       "2              1         0                       1                 0   \n",
       "3              1         0                       0                 0   \n",
       "4              1         0                       0                 0   \n",
       "\n",
       "        marital_status_S  gender_Female  income_$100k-124k  income_$125k-149k  \\\n",
       "0                      0              1                  0                  0   \n",
       "999501                 0              0                  0                  0   \n",
       "2                      1              1                  0                  0   \n",
       "3                      0              1                  0                  1   \n",
       "4                      0              1                  0                  0   \n",
       "\n",
       "        income_$150k-174k  income_$175k-199k  income_$200k-224k  \\\n",
       "0                       0                  1                  0   \n",
       "999501                  0                  0                  0   \n",
       "2                       1                  0                  0   \n",
       "3                       0                  0                  0   \n",
       "4                       0                  1                  0   \n",
       "\n",
       "        income_$225k-249k  income_$250k+  income_$25k-49k  income_$50k-74k  \\\n",
       "0                       0              0                0                0   \n",
       "999501                  1              0                0                0   \n",
       "2                       0              0                0                0   \n",
       "3                       0              0                0                0   \n",
       "4                       0              0                0                0   \n",
       "\n",
       "        income_$75k-99k  income_Less$25k  \n",
       "0                     0                0  \n",
       "999501                0                0  \n",
       "2                     0                0  \n",
       "3                     0                0  \n",
       "4                     0                0  "
      ]
     },
     "execution_count": 66,
     "metadata": {},
     "output_type": "execute_result"
    }
   ],
   "source": [
    "one_hot_x_logistic.head()"
   ]
  },
  {
   "cell_type": "code",
   "execution_count": 67,
   "id": "6ae07f4f",
   "metadata": {},
   "outputs": [],
   "source": [
    "df_x_logistic = pd.concat([df_x_partial,one_hot_x_logistic],axis=1)"
   ]
  },
  {
   "cell_type": "markdown",
   "id": "14c2c757",
   "metadata": {},
   "source": [
    "#  "
   ]
  },
  {
   "cell_type": "markdown",
   "id": "f22e2ce2",
   "metadata": {},
   "source": [
    "# Predict the Probability of Listening Podcasts"
   ]
  },
  {
   "cell_type": "markdown",
   "id": "3f377a25",
   "metadata": {},
   "source": [
    "### Machine Learning - XGBoost"
   ]
  },
  {
   "cell_type": "code",
   "execution_count": 31,
   "id": "8a71f3fa",
   "metadata": {},
   "outputs": [],
   "source": [
    "def predict_podcast(Y_data=df_y, X_data=df_x):\n",
    "    Y = Y_data\n",
    "    X = X_data\n",
    "    \n",
    "\n",
    "    X_train, X_test, Y_train, Y_test = train_test_split(X, Y, test_size=0.33, random_state=101)\n",
    "    \n",
    "    xgb_model = XGBClassifier(objective = \"binary:logistic\")\n",
    "\n",
    "    params = {'eta': [0.05, 0.1, 0.2],\n",
    "            'min_child_weight': [11],\n",
    "            'gamma': [0, 1],\n",
    "            'lambda': [0, 10],\n",
    "            'alpha': [0, 10],\n",
    "            'max_depth': [3,4,5,6],\n",
    "            'subsample': [0.8],\n",
    "            'colsample_bytree': [0.8],\n",
    "            'n_estimators': [800], \n",
    "            'seed': [101]\n",
    "        }\n",
    "\n",
    "    skf = StratifiedKFold(n_splits=5, shuffle=True)\n",
    "\n",
    "    grid_model = GridSearchCV(xgb_model, \n",
    "                    param_grid = params, \n",
    "                    scoring = 'roc_auc', \n",
    "                    n_jobs = 4, \n",
    "                    cv = skf.split(X_train, Y_train),\n",
    "                    verbose = 2,\n",
    "                    refit = 'roc_auc')\n",
    "\n",
    "\n",
    "    grid_model.fit(X_train, Y_train) \n",
    "    \n",
    "    best_parameters = grid_model.best_params_\n",
    "    print(best_parameters)\n",
    "    best_model = grid_model.best_estimator_\n",
    "    print(best_model)\n",
    "    \n",
    "    Y_pred = grid_model.predict(X_test)\n",
    "    \n",
    "    #save the model\n",
    "    joblib.dump(grid_model.best_estimator_, 'best_model.pkl', compress = 1)   \n",
    "    \n",
    "    print(classification_report(Y_test, Y_pred))\n",
    "    feature_importance = grid_model.best_estimator_.feature_importances_\n",
    "    print(feature_importance)\n",
    "    important_features = pd.DataFrame(index=X.columns, data=feature_importance, columns=['importance'])\n",
    "    important_features = important_features.sort_values('importance', ascending=False)\n",
    "    print(important_features)\n",
    "    \n",
    "    ac_score = accuracy_score(Y_test, Y_pred)\n",
    "    print(ac_score)\n",
    "    confusion_matrix(Y_test, Y_pred)\n",
    "    plot_confusion_matrix(grid_model, X_test, Y_test)\n",
    "    \n",
    "    plot_precision_recall_curve(grid_model, X_test, Y_test)\n",
    "    plot_roc_curve(grid_model, X_test, Y_test)"
   ]
  },
  {
   "cell_type": "code",
   "execution_count": 32,
   "id": "f51f9fb3",
   "metadata": {},
   "outputs": [
    {
     "name": "stdout",
     "output_type": "stream",
     "text": [
      "Fitting 5 folds for each of 96 candidates, totalling 480 fits\n"
     ]
    },
    {
     "name": "stderr",
     "output_type": "stream",
     "text": [
      "/opt/anaconda3/lib/python3.8/site-packages/joblib/externals/loky/process_executor.py:688: UserWarning: A worker stopped while some jobs were given to the executor. This can be caused by a too short worker timeout or by a memory leak.\n",
      "  warnings.warn(\n",
      "/opt/anaconda3/lib/python3.8/site-packages/xgboost/sklearn.py:888: UserWarning: The use of label encoder in XGBClassifier is deprecated and will be removed in a future release. To remove this warning, do the following: 1) Pass option use_label_encoder=False when constructing XGBClassifier object; and 2) Encode your labels (y) as integers starting with 0, i.e. 0, 1, 2, ..., [num_class - 1].\n",
      "  warnings.warn(label_encoder_deprecation_msg, UserWarning)\n",
      "/opt/anaconda3/lib/python3.8/site-packages/sklearn/utils/validation.py:63: DataConversionWarning: A column-vector y was passed when a 1d array was expected. Please change the shape of y to (n_samples, ), for example using ravel().\n",
      "  return f(*args, **kwargs)\n"
     ]
    },
    {
     "name": "stdout",
     "output_type": "stream",
     "text": [
      "[02:52:37] WARNING: /opt/concourse/worker/volumes/live/7a2b9f41-3287-451b-6691-43e9a6c0910f/volume/xgboost-split_1619728204606/work/src/learner.cc:1061: Starting in XGBoost 1.3.0, the default evaluation metric used with the objective 'binary:logistic' was changed from 'error' to 'logloss'. Explicitly set eval_metric if you'd like to restore the old behavior.\n",
      "{'alpha': 0, 'colsample_bytree': 0.8, 'eta': 0.05, 'gamma': 0, 'lambda': 0, 'max_depth': 3, 'min_child_weight': 11, 'n_estimators': 800, 'seed': 101, 'subsample': 0.8}\n",
      "XGBClassifier(alpha=0, base_score=0.5, booster='gbtree', colsample_bylevel=1,\n",
      "              colsample_bynode=1, colsample_bytree=0.8, eta=0.05, gamma=0,\n",
      "              gpu_id=-1, importance_type='gain', interaction_constraints='',\n",
      "              lambda=0, learning_rate=0.0500000007, max_delta_step=0,\n",
      "              max_depth=3, min_child_weight=11, missing=nan,\n",
      "              monotone_constraints='()', n_estimators=800, n_jobs=8,\n",
      "              num_parallel_tree=1, random_state=101, reg_alpha=0, reg_lambda=0,\n",
      "              scale_pos_weight=1, seed=101, subsample=0.8, tree_method='exact',\n",
      "              validate_parameters=1, verbosity=None)\n",
      "              precision    recall  f1-score   support\n",
      "\n",
      "           0       0.97      0.99      0.98    271620\n",
      "           1       0.92      0.82      0.87     48504\n",
      "\n",
      "    accuracy                           0.96    320124\n",
      "   macro avg       0.94      0.91      0.92    320124\n",
      "weighted avg       0.96      0.96      0.96    320124\n",
      "\n",
      "[4.3019027e-02 6.5055124e-02 6.0484385e-01 2.0954294e-02 1.2058259e-03\n",
      " 2.4534814e-04 1.4728324e-04 3.3632077e-02 2.0864543e-03 2.1923373e-04\n",
      " 2.4552871e-02 4.9491320e-02 3.8629163e-02 4.2650241e-02 8.1545912e-04\n",
      " 1.8170293e-03 2.3842828e-02 1.4159026e-02 1.9976231e-03 1.1794312e-02\n",
      " 1.2454256e-02 0.0000000e+00 1.3609289e-03 1.6249700e-03 0.0000000e+00\n",
      " 3.4013232e-03]\n",
      "                              importance\n",
      "number_of_news_subs             0.604844\n",
      "streaming_entertainment_subs    0.065055\n",
      "marital_status_U                0.049491\n",
      "presence_of_child_ind           0.043019\n",
      "gender_Male                     0.042650\n",
      "gender_Female                   0.038629\n",
      "streaming_media_subs_N          0.033632\n",
      "marital_status_S                0.024553\n",
      "income_$150k-174k               0.023843\n",
      "age                             0.020954\n",
      "income_$175k-199k               0.014159\n",
      "income_$250k+                   0.012454\n",
      "income_$225k-249k               0.011794\n",
      "income_U                        0.003401\n",
      "streaming_media_subs_Y          0.002086\n",
      "income_$200k-224k               0.001998\n",
      "income_$125k-149k               0.001817\n",
      "income_$75k-99k                 0.001625\n",
      "income_$50k-74k                 0.001361\n",
      "state_CA                        0.001206\n",
      "income_$100k-124k               0.000815\n",
      "state_DC                        0.000245\n",
      "marital_status_M                0.000219\n",
      "state_GA                        0.000147\n",
      "income_$25k-49k                 0.000000\n",
      "income_Less$25k                 0.000000\n",
      "0.9619366245579838\n"
     ]
    },
    {
     "data": {
      "image/png": "[encoded data removed]",
      "text/plain": [
       "<Figure size 432x288 with 2 Axes>"
      ]
     },
     "metadata": {
      "needs_background": "light"
     },
     "output_type": "display_data"
    },
    {
     "data": {
      "image/png": "[encoded data removed]",
      "text/plain": [
       "<Figure size 432x288 with 1 Axes>"
      ]
     },
     "metadata": {
      "needs_background": "light"
     },
     "output_type": "display_data"
    },
    {
     "data": {
      "image/png": "[encoded data removed]",
      "text/plain": [
       "<Figure size 432x288 with 1 Axes>"
      ]
     },
     "metadata": {
      "needs_background": "light"
     },
     "output_type": "display_data"
    }
   ],
   "source": [
    "predict_podcast(Y_data=df_y, X_data=df_x)"
   ]
  },
  {
   "cell_type": "code",
   "execution_count": 97,
   "id": "c6d7e17c",
   "metadata": {},
   "outputs": [
    {
     "data": {
      "text/plain": [
       "<sklearn.metrics._plot.confusion_matrix.ConfusionMatrixDisplay at 0x7f810a493490>"
      ]
     },
     "execution_count": 97,
     "metadata": {},
     "output_type": "execute_result"
    },
    {
     "data": {
      "image/png": "[encoded data removed]",
      "text/plain": [
       "<Figure size 432x288 with 2 Axes>"
      ]
     },
     "metadata": {
      "needs_background": "light"
     },
     "output_type": "display_data"
    }
   ],
   "source": [
    "best_case=joblib.load('best_model.pkl')\n",
    "Y = df_y\n",
    "X = df_x\n",
    "X_train, X_test, Y_train, Y_test = train_test_split(X, Y, test_size=0.33, random_state=101)\n",
    "# Scaled so highest value=1\n",
    "plot_confusion_matrix(best_case,X_test,Y_test,normalize='true')"
   ]
  },
  {
   "cell_type": "code",
   "execution_count": 33,
   "id": "8ab4d47d",
   "metadata": {},
   "outputs": [
    {
     "data": {
      "text/plain": [
       "<AxesSubplot:title={'center':'Feature importance'}, xlabel='F score', ylabel='Features'>"
      ]
     },
     "execution_count": 33,
     "metadata": {},
     "output_type": "execute_result"
    },
    {
     "data": {
      "image/png": "[encoded data removed]",
      "text/plain": [
       "<Figure size 432x288 with 1 Axes>"
      ]
     },
     "metadata": {
      "needs_background": "light"
     },
     "output_type": "display_data"
    },
    {
     "data": {
      "image/png": "[encoded data removed]",
      "text/plain": [
       "<Figure size 432x288 with 1 Axes>"
      ]
     },
     "metadata": {
      "needs_background": "light"
     },
     "output_type": "display_data"
    },
    {
     "data": {
      "image/png": "[encoded data removed]",
      "text/plain": [
       "<Figure size 432x288 with 1 Axes>"
      ]
     },
     "metadata": {
      "needs_background": "light"
     },
     "output_type": "display_data"
    }
   ],
   "source": [
    "best_case=joblib.load('best_model.pkl')\n",
    "xgb.plot_importance(best_case, importance_type='gain')\n",
    "xgb.plot_importance(best_case, importance_type='weight')\n",
    "xgb.plot_importance(best_case, importance_type='cover')"
   ]
  },
  {
   "cell_type": "code",
   "execution_count": 34,
   "id": "a5af1fe5",
   "metadata": {},
   "outputs": [
    {
     "data": {
      "text/plain": [
       "{'number_of_news_subs': 29426.09853563909,\n",
       " 'streaming_entertainment_subs': 11890.972691431221,\n",
       " 'marital_status_S': 13937.978347857868,\n",
       " 'gender_Female': 8801.978931634818,\n",
       " 'presence_of_child_ind': 9715.110869170207,\n",
       " 'marital_status_U': 12067.597335451273,\n",
       " 'age': 8013.808615442873,\n",
       " 'gender_Male': 10505.430762861288,\n",
       " 'income_$100k-124k': 7976.819953134146,\n",
       " 'streaming_media_subs_N': 10800.630630268495,\n",
       " 'income_$150k-174k': 8778.131558339453,\n",
       " 'income_$225k-249k': 8973.34457885517,\n",
       " 'income_$175k-199k': 9518.26516895194,\n",
       " 'income_$250k+': 11315.368224147058,\n",
       " 'marital_status_M': 2260.414740488421,\n",
       " 'income_U': 12185.650940990992,\n",
       " 'income_$200k-224k': 7245.58367182769,\n",
       " 'streaming_media_subs_Y': 6096.69426775,\n",
       " 'income_$125k-149k': 10841.736536911765,\n",
       " 'income_$50k-74k': 11724.688463750002,\n",
       " 'income_$75k-99k': 10192.722359703126,\n",
       " 'state_CA': 10744.61963470588,\n",
       " 'state_DC': 8927.681364866667,\n",
       " 'state_GA': 6380.282730884615}"
      ]
     },
     "execution_count": 34,
     "metadata": {},
     "output_type": "execute_result"
    }
   ],
   "source": [
    "best_case.get_booster().get_score(importance_type='gain')\n",
    "best_case.get_booster().get_score(importance_type='weight')\n",
    "best_case.get_booster().get_score(importance_type='cover')"
   ]
  },
  {
   "cell_type": "code",
   "execution_count": null,
   "id": "ddfe9fa1",
   "metadata": {},
   "outputs": [],
   "source": [
    "# Potential improvements:\n",
    "# Investigate SHAP values for further model explainability\n",
    "# Expand the grid to cover more hyperparameters as the current best model's hyperparameters are on the border \n",
    "# of the current  grid & and do another round of grid search."
   ]
  },
  {
   "cell_type": "markdown",
   "id": "c1fd8710",
   "metadata": {},
   "source": [
    "### Prepare submission data"
   ]
  },
  {
   "cell_type": "code",
   "execution_count": 35,
   "id": "c8164903",
   "metadata": {},
   "outputs": [
    {
     "name": "stdout",
     "output_type": "stream",
     "text": [
      "(970071, 26)\n",
      "        anon_person_id  target  prediction  probability\n",
      "0                    1       0           1     0.608081\n",
      "999501               2       0           0     0.000003\n",
      "2                    3       1           1     0.993130\n",
      "3                    4       0           0     0.000051\n",
      "4                    5       0           0     0.001843\n",
      "...                ...     ...         ...          ...\n",
      "999595              96       0           0     0.040046\n",
      "96                  97       0           0     0.000026\n",
      "97                  98       0           0     0.001401\n",
      "98                  99       0           0     0.000232\n",
      "99                 100       0           0     0.004741\n",
      "\n",
      "[100 rows x 4 columns]\n"
     ]
    }
   ],
   "source": [
    "print(np.shape(df_x))\n",
    "test_case=joblib.load('best_model.pkl')\n",
    "Y_pred_prob_all = test_case.predict_proba(df_x)  # probability that a person will [not listen, listen]\n",
    "Probability = test_case.predict_proba(df_x)[:,1] # probability that a person will listen\n",
    "Prediction = test_case.predict(df_x)             # 0-1 predicted outcomes based on 0.5 cutoff\n",
    "Target = df_y\n",
    "\n",
    "df = df.assign(target = Target)\n",
    "df = df.assign(probability = Probability)\n",
    "df = df.assign(prediction = Prediction)\n",
    "df = df[['anon_person_id', 'target', 'prediction', 'probability']]\n",
    "print(df.head(100))\n",
    "\n",
    "# Submission\n",
    "df.to_csv('Scores.csv', index=False)"
   ]
  },
  {
   "cell_type": "code",
   "execution_count": 36,
   "id": "bc841c19",
   "metadata": {},
   "outputs": [
    {
     "data": {
      "text/html": [
       "<div>\n",
       "<style scoped>\n",
       "    .dataframe tbody tr th:only-of-type {\n",
       "        vertical-align: middle;\n",
       "    }\n",
       "\n",
       "    .dataframe tbody tr th {\n",
       "        vertical-align: top;\n",
       "    }\n",
       "\n",
       "    .dataframe thead th {\n",
       "        text-align: right;\n",
       "    }\n",
       "</style>\n",
       "<table border=\"1\" class=\"dataframe\">\n",
       "  <thead>\n",
       "    <tr style=\"text-align: right;\">\n",
       "      <th></th>\n",
       "      <th>anon_person_id</th>\n",
       "      <th>target</th>\n",
       "      <th>prediction</th>\n",
       "      <th>probability</th>\n",
       "    </tr>\n",
       "  </thead>\n",
       "  <tbody>\n",
       "    <tr>\n",
       "      <th>0</th>\n",
       "      <td>1</td>\n",
       "      <td>0</td>\n",
       "      <td>1</td>\n",
       "      <td>0.608081</td>\n",
       "    </tr>\n",
       "    <tr>\n",
       "      <th>1</th>\n",
       "      <td>2</td>\n",
       "      <td>0</td>\n",
       "      <td>0</td>\n",
       "      <td>0.000003</td>\n",
       "    </tr>\n",
       "    <tr>\n",
       "      <th>2</th>\n",
       "      <td>3</td>\n",
       "      <td>1</td>\n",
       "      <td>1</td>\n",
       "      <td>0.993130</td>\n",
       "    </tr>\n",
       "    <tr>\n",
       "      <th>3</th>\n",
       "      <td>4</td>\n",
       "      <td>0</td>\n",
       "      <td>0</td>\n",
       "      <td>0.000051</td>\n",
       "    </tr>\n",
       "    <tr>\n",
       "      <th>4</th>\n",
       "      <td>5</td>\n",
       "      <td>0</td>\n",
       "      <td>0</td>\n",
       "      <td>0.001843</td>\n",
       "    </tr>\n",
       "    <tr>\n",
       "      <th>...</th>\n",
       "      <td>...</td>\n",
       "      <td>...</td>\n",
       "      <td>...</td>\n",
       "      <td>...</td>\n",
       "    </tr>\n",
       "    <tr>\n",
       "      <th>970066</th>\n",
       "      <td>999496</td>\n",
       "      <td>0</td>\n",
       "      <td>0</td>\n",
       "      <td>0.000019</td>\n",
       "    </tr>\n",
       "    <tr>\n",
       "      <th>970067</th>\n",
       "      <td>999497</td>\n",
       "      <td>0</td>\n",
       "      <td>0</td>\n",
       "      <td>0.000024</td>\n",
       "    </tr>\n",
       "    <tr>\n",
       "      <th>970068</th>\n",
       "      <td>999498</td>\n",
       "      <td>0</td>\n",
       "      <td>0</td>\n",
       "      <td>0.001887</td>\n",
       "    </tr>\n",
       "    <tr>\n",
       "      <th>970069</th>\n",
       "      <td>999499</td>\n",
       "      <td>0</td>\n",
       "      <td>0</td>\n",
       "      <td>0.002343</td>\n",
       "    </tr>\n",
       "    <tr>\n",
       "      <th>970070</th>\n",
       "      <td>999500</td>\n",
       "      <td>1</td>\n",
       "      <td>1</td>\n",
       "      <td>0.999844</td>\n",
       "    </tr>\n",
       "  </tbody>\n",
       "</table>\n",
       "<p>970071 rows × 4 columns</p>\n",
       "</div>"
      ],
      "text/plain": [
       "        anon_person_id  target  prediction  probability\n",
       "0                    1       0           1     0.608081\n",
       "1                    2       0           0     0.000003\n",
       "2                    3       1           1     0.993130\n",
       "3                    4       0           0     0.000051\n",
       "4                    5       0           0     0.001843\n",
       "...                ...     ...         ...          ...\n",
       "970066          999496       0           0     0.000019\n",
       "970067          999497       0           0     0.000024\n",
       "970068          999498       0           0     0.001887\n",
       "970069          999499       0           0     0.002343\n",
       "970070          999500       1           1     0.999844\n",
       "\n",
       "[970071 rows x 4 columns]"
      ]
     },
     "execution_count": 36,
     "metadata": {},
     "output_type": "execute_result"
    }
   ],
   "source": [
    "pd.read_csv('Scores.csv')"
   ]
  },
  {
   "cell_type": "code",
   "execution_count": null,
   "id": "e0a073bb",
   "metadata": {},
   "outputs": [],
   "source": [
    "# Notes on 0.5 cutoff to convert probability into 1/0 tagging:\n",
    "# 0.5 is preset and intuitive, however it might not be the best choice. \n",
    "# Other possible ways to assign the tagging:\n",
    "# (1) Bernoulli distribution - try to infer 1/0 from a Bernoulli distribution with predicted probability\n",
    "# For example, if the model predicts 30%, assign 1/0 based on RAND('Bernoulli', 0.3)\n",
    "# (2) Pick a cutoff based on the sample: pick the cutoff such that the actual success rate\n",
    "# equals predicted success rate on the sample (at what cutoff can this be achieved)\n",
    "# (3) 0.5 preset cutoff used above\n",
    "# One can then get 1/0 taggings based on each approach, \n",
    "# construct 3 confusion matrices to evaluate classification accuracy of\n",
    "# actual vs. predicted success. Based on the confusion matrix, we can calculate:\n",
    "# Precision, Recall, F1 Score, Accuracy\n",
    "# and pick the best 1/0 assignment method based on these metrics. "
   ]
  },
  {
   "cell_type": "code",
   "execution_count": null,
   "id": "34b0aeb6",
   "metadata": {},
   "outputs": [],
   "source": []
  },
  {
   "cell_type": "markdown",
   "id": "f0718331",
   "metadata": {},
   "source": [
    "### Benchmark - Traditional Approach - Logistic Regression"
   ]
  },
  {
   "cell_type": "code",
   "execution_count": null,
   "id": "ce08b6d1",
   "metadata": {},
   "outputs": [],
   "source": [
    "# A logistic regression is estimated as a benchmark to compare performance\n",
    "# as well as to gain more insights into the key predictors.\n",
    "# One should note the possibility of multicollinearity here, however.\n",
    "# While dropping the one category from each one-hot-encoded variable prevented perfect multicollinearity,\n",
    "# age is still likely correlated with income, child indicator, and marital status. \n",
    "# Correlated independent variables will violate the model assumptions\n",
    "# and lead to biased coefficients along with unreliable p-values. \n",
    "# A more refined logistic regression model would conduct more feature engineering (such as age bins)\n",
    "# and only include attributes with VIF<6. \n",
    "# Since this is a benchmark model for a POC, such details are not explored here.\n",
    "# Main predictor model should be taken as the XGBoost model above."
   ]
  },
  {
   "cell_type": "code",
   "execution_count": 98,
   "id": "d2a3a125",
   "metadata": {},
   "outputs": [],
   "source": [
    "Y = df_y_logistic\n",
    "X = df_x_logistic\n",
    "\n",
    "X_train, X_test, Y_train, Y_test = train_test_split(X, Y, test_size=0.33, random_state=101)"
   ]
  },
  {
   "cell_type": "code",
   "execution_count": 69,
   "id": "f145d5ee",
   "metadata": {},
   "outputs": [],
   "source": [
    "from sklearn.preprocessing import StandardScaler"
   ]
  },
  {
   "cell_type": "code",
   "execution_count": 70,
   "id": "f90628dc",
   "metadata": {},
   "outputs": [],
   "source": [
    "scaler = StandardScaler()"
   ]
  },
  {
   "cell_type": "code",
   "execution_count": 71,
   "id": "41ff16d5",
   "metadata": {},
   "outputs": [],
   "source": [
    "scaled_X_train = scaler.fit_transform(X_train)\n",
    "scaled_X_test = scaler.transform(X_test)"
   ]
  },
  {
   "cell_type": "code",
   "execution_count": null,
   "id": "4417cf50",
   "metadata": {},
   "outputs": [],
   "source": [
    "# Estimate a quick model using statsmodels to easily get p-values"
   ]
  },
  {
   "cell_type": "code",
   "execution_count": 75,
   "id": "4d18f498",
   "metadata": {},
   "outputs": [
    {
     "name": "stdout",
     "output_type": "stream",
     "text": [
      "Optimization terminated successfully.\n",
      "         Current function value: 0.141611\n",
      "         Iterations 66\n",
      "                           Logit Regression Results                           \n",
      "==============================================================================\n",
      "Dep. Variable:                 target   No. Observations:               649947\n",
      "Model:                          Logit   Df Residuals:                   649927\n",
      "Method:                           MLE   Df Model:                           19\n",
      "Date:                Sun, 12 Sep 2021   Pseudo R-squ.:                  0.6658\n",
      "Time:                        12:17:02   Log-Likelihood:                -92040.\n",
      "converged:                       True   LL-Null:                   -2.7544e+05\n",
      "Covariance Type:            nonrobust   LLR p-value:                     0.000\n",
      "==============================================================================\n",
      "                 coef    std err          z      P>|z|      [0.025      0.975]\n",
      "------------------------------------------------------------------------------\n",
      "x1             6.1959     56.102      0.110      0.912    -103.761     116.153\n",
      "x2             0.4864   1.19e+15   4.09e-16      1.000   -2.33e+15    2.33e+15\n",
      "x3            13.7959      1.527      9.035      0.000      10.803      16.789\n",
      "x4            -0.1727      0.007    -24.864      0.000      -0.186      -0.159\n",
      "x5             0.0844      0.009      9.855      0.000       0.068       0.101\n",
      "x6            -0.0409      0.012     -3.467      0.001      -0.064      -0.018\n",
      "x7             0.4864   1.19e+15   4.09e-16      1.000   -2.33e+15    2.33e+15\n",
      "x8             0.6932        nan        nan        nan         nan         nan\n",
      "x9             0.6701        nan        nan        nan         nan         nan\n",
      "x10            0.9664      0.007    142.494      0.000       0.953       0.980\n",
      "x11           -2.8387     30.704     -0.092      0.926     -63.018      57.341\n",
      "x12           -4.2219     43.817     -0.096      0.923     -90.102      81.658\n",
      "x13            1.2874      0.038     33.763      0.000       1.213       1.362\n",
      "x14            1.2994      0.047     27.849      0.000       1.208       1.391\n",
      "x15            0.9864      0.053     18.639      0.000       0.883       1.090\n",
      "x16            0.5742      0.051     11.177      0.000       0.474       0.675\n",
      "x17            0.1558      0.041      3.815      0.000       0.076       0.236\n",
      "x18           -0.3529      4.617     -0.076      0.939      -9.403       8.697\n",
      "x19           -0.8627     10.726     -0.080      0.936     -21.886      20.161\n",
      "x20           -1.6760     19.374     -0.087      0.931     -39.649      36.297\n",
      "x21           -0.1100      1.397     -0.079      0.937      -2.847       2.627\n",
      "==============================================================================\n"
     ]
    }
   ],
   "source": [
    "import statsmodels.api as sm\n",
    "logit_model=sm.Logit(Y_train,scaled_X_train)\n",
    "result=logit_model.fit(maxiter=200)\n",
    "print(result.summary())\n",
    "# based on the p values, we can see which coefficients are statistically significantly different than zero \n",
    "# at 95% confidence level"
   ]
  },
  {
   "cell_type": "code",
   "execution_count": null,
   "id": "bad75b98",
   "metadata": {},
   "outputs": [],
   "source": [
    "# Also estimate a quick logistic using sklearn so that we can compare to the performance metrics of XGBoost above"
   ]
  },
  {
   "cell_type": "code",
   "execution_count": 72,
   "id": "d99d4297",
   "metadata": {},
   "outputs": [],
   "source": [
    "from sklearn.linear_model import LogisticRegression"
   ]
  },
  {
   "cell_type": "code",
   "execution_count": 80,
   "id": "8d633363",
   "metadata": {},
   "outputs": [],
   "source": [
    "log_model = LogisticRegression(max_iter=1000)"
   ]
  },
  {
   "cell_type": "code",
   "execution_count": 81,
   "id": "34c365dc",
   "metadata": {},
   "outputs": [
    {
     "data": {
      "text/plain": [
       "LogisticRegression(max_iter=1000)"
      ]
     },
     "execution_count": 81,
     "metadata": {},
     "output_type": "execute_result"
    }
   ],
   "source": [
    "log_model.fit(scaled_X_train, Y_train.values.ravel())"
   ]
  },
  {
   "cell_type": "code",
   "execution_count": 82,
   "id": "fda0f56d",
   "metadata": {},
   "outputs": [
    {
     "data": {
      "text/plain": [
       "array([[ 2.48429183,  0.4862172 ,  7.71410025, -0.17271763,  0.0843173 ,\n",
       "        -0.04099076,  0.4862172 ,  0.69298843,  0.66998578,  0.96601844,\n",
       "        -0.8091503 , -1.32547682,  1.28187756,  1.29296247,  0.97973663,\n",
       "         0.56819906,  0.15171036, -0.04767991, -0.15349971, -0.39535376,\n",
       "        -0.01688423]])"
      ]
     },
     "execution_count": 82,
     "metadata": {},
     "output_type": "execute_result"
    }
   ],
   "source": [
    "log_model.coef_"
   ]
  },
  {
   "cell_type": "code",
   "execution_count": 86,
   "id": "e4bf1375",
   "metadata": {},
   "outputs": [],
   "source": [
    "Y_pred=log_model.predict(X_test)"
   ]
  },
  {
   "cell_type": "code",
   "execution_count": 87,
   "id": "5c729825",
   "metadata": {},
   "outputs": [
    {
     "data": {
      "text/plain": [
       "0.9284745910959503"
      ]
     },
     "execution_count": 87,
     "metadata": {},
     "output_type": "execute_result"
    }
   ],
   "source": [
    "accuracy_score(Y_test, y_pred)"
   ]
  },
  {
   "cell_type": "code",
   "execution_count": 89,
   "id": "189f1d2b",
   "metadata": {},
   "outputs": [
    {
     "data": {
      "text/plain": [
       "array([[271620,      0],\n",
       "       [ 22897,  25607]])"
      ]
     },
     "execution_count": 89,
     "metadata": {},
     "output_type": "execute_result"
    }
   ],
   "source": [
    "confusion_matrix(Y_test,Y_pred)"
   ]
  },
  {
   "cell_type": "code",
   "execution_count": 91,
   "id": "23a8cacd",
   "metadata": {},
   "outputs": [
    {
     "data": {
      "text/plain": [
       "<sklearn.metrics._plot.confusion_matrix.ConfusionMatrixDisplay at 0x7f810810c6d0>"
      ]
     },
     "execution_count": 91,
     "metadata": {},
     "output_type": "execute_result"
    },
    {
     "data": {
      "image/png": "[encoded data removed]",
      "text/plain": [
       "<Figure size 432x288 with 2 Axes>"
      ]
     },
     "metadata": {
      "needs_background": "light"
     },
     "output_type": "display_data"
    }
   ],
   "source": [
    "plot_confusion_matrix(log_model,scaled_X_test,Y_test)"
   ]
  },
  {
   "cell_type": "code",
   "execution_count": 93,
   "id": "86a62725",
   "metadata": {},
   "outputs": [
    {
     "data": {
      "text/plain": [
       "<sklearn.metrics._plot.confusion_matrix.ConfusionMatrixDisplay at 0x7f81298323d0>"
      ]
     },
     "execution_count": 93,
     "metadata": {},
     "output_type": "execute_result"
    },
    {
     "data": {
      "image/png": "[encoded data removed]",
      "text/plain": [
       "<Figure size 432x288 with 2 Axes>"
      ]
     },
     "metadata": {
      "needs_background": "light"
     },
     "output_type": "display_data"
    }
   ],
   "source": [
    "# Scaled so highest value=1\n",
    "plot_confusion_matrix(log_model,scaled_X_test,Y_test,normalize='true')"
   ]
  },
  {
   "cell_type": "code",
   "execution_count": 96,
   "id": "81c78d12",
   "metadata": {},
   "outputs": [
    {
     "name": "stdout",
     "output_type": "stream",
     "text": [
      "              precision    recall  f1-score   support\n",
      "\n",
      "           0       0.92      1.00      0.96    271620\n",
      "           1       1.00      0.53      0.69     48504\n",
      "\n",
      "    accuracy                           0.93    320124\n",
      "   macro avg       0.96      0.76      0.83    320124\n",
      "weighted avg       0.93      0.93      0.92    320124\n",
      "\n"
     ]
    }
   ],
   "source": [
    "print(classification_report(Y_test,Y_pred))"
   ]
  },
  {
   "cell_type": "code",
   "execution_count": 100,
   "id": "fc77e796",
   "metadata": {},
   "outputs": [
    {
     "data": {
      "text/plain": [
       "<sklearn.metrics._plot.roc_curve.RocCurveDisplay at 0x7f812924a8e0>"
      ]
     },
     "execution_count": 100,
     "metadata": {},
     "output_type": "execute_result"
    },
    {
     "data": {
      "image/png": "[encoded data removed]",
      "text/plain": [
       "<Figure size 432x288 with 1 Axes>"
      ]
     },
     "metadata": {
      "needs_background": "light"
     },
     "output_type": "display_data"
    },
    {
     "data": {
      "image/png": "[encoded data removed]",
      "text/plain": [
       "<Figure size 432x288 with 1 Axes>"
      ]
     },
     "metadata": {
      "needs_background": "light"
     },
     "output_type": "display_data"
    }
   ],
   "source": [
    "plot_precision_recall_curve(log_model, scaled_X_test, Y_test)\n",
    "plot_roc_curve(log_model, scaled_X_test, Y_test)"
   ]
  },
  {
   "cell_type": "markdown",
   "id": "5e8825ed",
   "metadata": {},
   "source": [
    "# "
   ]
  }
 ],
 "metadata": {
  "kernelspec": {
   "display_name": "Python 3",
   "language": "python",
   "name": "python3"
  },
  "language_info": {
   "codemirror_mode": {
    "name": "ipython",
    "version": 3
   },
   "file_extension": ".py",
   "mimetype": "text/x-python",
   "name": "python",
   "nbconvert_exporter": "python",
   "pygments_lexer": "ipython3",
   "version": "3.8.8"
  }
 },
 "nbformat": 4,
 "nbformat_minor": 5
}
